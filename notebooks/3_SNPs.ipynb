{
  "cells": [
    {
      "cell_type": "markdown",
      "metadata": {
        "id": "view-in-github",
        "colab_type": "text"
      },
      "source": [
        "<a href=\"https://colab.research.google.com/github/natcan/gen_evol_2025/blob/main/notebooks/3_SNPs.ipynb\" target=\"_parent\"><img src=\"https://colab.research.google.com/assets/colab-badge.svg\" alt=\"Open In Colab\"/></a>"
      ]
    },
    {
      "cell_type": "markdown",
      "id": "e729fb62",
      "metadata": {
        "id": "e729fb62"
      },
      "source": [
        "\n",
        "# 🧬 Análisis básico de SNPs en plantas usando datos de NCBI\n",
        "\n",
        "Este notebook guía el análisis simple de SNPs del gen BRCA1 _Homo sapiens_ usando datos de NCBI. Objetivo: Aprender a recuperar datos de SNPs desde NCBI usando Biopython y realizar un análisis exploratorio básico."
      ]
    },
    {
      "cell_type": "markdown",
      "id": "c60a4910",
      "metadata": {
        "id": "c60a4910"
      },
      "source": [
        "## 📦  1. Importar librerías necesarias"
      ]
    },
    {
      "cell_type": "code",
      "execution_count": 61,
      "id": "52d6117d",
      "metadata": {
        "id": "52d6117d",
        "colab": {
          "base_uri": "https://localhost:8080/"
        },
        "outputId": "88188dad-ae31-4d2c-9ad4-480a8aa233bb",
        "collapsed": true
      },
      "outputs": [
        {
          "output_type": "stream",
          "name": "stdout",
          "text": [
            "Requirement already satisfied: biopython in /usr/local/lib/python3.12/dist-packages (1.85)\n",
            "Requirement already satisfied: numpy in /usr/local/lib/python3.12/dist-packages (from biopython) (2.0.2)\n"
          ]
        }
      ],
      "source": [
        "# 🔧 Librerías para acceder a NCBI y manejar datos\n",
        "\n",
        "# 📘 Instalación de Biopython\n",
        "!pip install biopython\n",
        "\n",
        "from Bio import Entrez\n",
        "import os\n",
        "import pandas as pd\n",
        "import xml.etree.ElementTree as ET\n",
        "import matplotlib.pyplot as plt\n",
        "\n",
        "# 📧 Configurar tu correo electrónico (requerido por NCBI)\n",
        "Entrez.email = \"allasicanales@gmail.com\""
      ]
    },
    {
      "cell_type": "markdown",
      "source": [
        "## 🏵 2. Obtener la data necesaria"
      ],
      "metadata": {
        "id": "ylMRXnZpj4UB"
      },
      "id": "ylMRXnZpj4UB"
    },
    {
      "cell_type": "code",
      "source": [
        "# 🧪 Buscar SNPs en BRCA1 en humanos\n",
        "search_term = \"BRCA1 AND Homo sapiens[Organism]\"\n",
        "handle = Entrez.esearch(db=\"snp\", term=search_term, retmax=20)\n",
        "record = Entrez.read(handle)\n",
        "handle.close()\n",
        "\n",
        "# 📋 Mostrar los IDs encontrados\n",
        "snp_ids = record[\"IdList\"]\n",
        "print(\"🔎 SNP IDs encontrados:\", snp_ids)\n",
        "\n",
        ""
      ],
      "metadata": {
        "colab": {
          "base_uri": "https://localhost:8080/"
        },
        "id": "V03f7QynZKgz",
        "outputId": "2da89f14-f574-4cb1-c5ae-91cc7b1ac0da"
      },
      "id": "V03f7QynZKgz",
      "execution_count": 67,
      "outputs": [
        {
          "output_type": "stream",
          "name": "stdout",
          "text": [
            "🔎 SNP IDs encontrados: ['2552282559', '2552281972', '2552281880', '2552281808', '2552281780', '2552281763', '2552281739', '2552281738', '2552281728', '2552281725', '2552281715', '2552281691', '2552281468', '2552281431', '2552281423', '2552281410', '2552281409', '2552281374', '2552281365', '2552281348']\n"
          ]
        }
      ]
    },
    {
      "cell_type": "markdown",
      "id": "d51f0e94",
      "metadata": {
        "id": "d51f0e94"
      },
      "source": [
        "\n",
        "## 📊 3. Obtención de SNPs y parseo de ellos\n"
      ]
    },
    {
      "cell_type": "code",
      "execution_count": 68,
      "id": "5b211b1b",
      "metadata": {
        "id": "5b211b1b",
        "colab": {
          "base_uri": "https://localhost:8080/"
        },
        "outputId": "51c561dc-084e-412e-b12d-b2d7d4b4d6ab"
      },
      "outputs": [
        {
          "output_type": "stream",
          "name": "stdout",
          "text": [
            "b'<?xml version=\"1.0\" ?>\\n<ExchangeSet xmlns:xsi=\"https://www.w3.org/2001/XMLSchema-instance\" xmlns=\"https://www.ncbi.nlm.nih.gov/SNP/docsum\" xsi:schemaLocation=\"https://www.ncbi.nlm.nih.gov/SNP/docsum ftp://ftp.ncbi.nlm.nih.gov/snp/specs/docsum_eutils.xsd\" ><DocumentSummary uid=\"2552282559\"><SNP_ID>2552282559</SNP_ID><ALLELE_ORIGIN/><GLOBAL_MAFS><MAF><STUDY>TOMMO</STUDY><FREQ>C=0.00001/1</FREQ></MAF></GLOBAL_MAFS><GLOBAL_POPULATION/><GLOBAL_SAMPLESIZE>0</GLOBAL_SAMPLESIZE><SUSPECTED/><CLINICAL_SIGNIFICANCE/><GENES><GENE_E><NAME>BRCA1</NAME><GENE_ID>672</GENE_ID></GENE_E><GENE_E><NAME>NBR2</NAME><GENE_ID>10230</GENE_ID></GENE_E></GENES><ACC>NC_000017.11</ACC><CHR>17</CHR><HANDLE>TOMMO_GENOMICS</HANDLE><SPDI>NC_000017.11:43127348:G:C</SPDI><FXN_CLASS>upstream_transcript_variant,2KB_upstream_variant,intron_variant</FXN_CLASS><VALIDATED>by-frequency</VALIDATED><DOCSUM>HGVS=NC_000017.11:g.43127349G&gt;C,NC_000017.10:g.41279366G&gt;C,NG_005905.2:g.90635C&gt;G,NG_056086.2:g.2955G&gt;C|SEQ=[G/C]'\n",
            "b'<?xml version=\"1.0\" ?>\\n<ExchangeSet xmlns:xsi=\"https://www.w3.org/2001/XMLSchema-instance\" xmlns=\"https://www.ncbi.nlm.nih.gov/SNP/docsum\" xsi:schemaLocation=\"https://www.ncbi.nlm.nih.gov/SNP/docsum ftp://ftp.ncbi.nlm.nih.gov/snp/specs/docsum_eutils.xsd\" ><DocumentSummary uid=\"2552282559\"><SNP_ID>2552282559</SNP_ID><ALLELE_ORIGIN/><GLOBAL_MAFS><MAF><STUDY>TOMMO</STUDY><FREQ>C=0.00001/1</FREQ></MAF></GLOBAL_MAFS><GLOBAL_POPULATION/><GLOBAL_SAMPLESIZE>0</GLOBAL_SAMPLESIZE><SUSPECTED/><CLINICAL_SIGNIFICANCE/><GENES><GENE_E><NAME>BRCA1</NAME><GENE_ID>672</GENE_ID></GENE_E><GENE_E><NAME>NBR2</NAME><GENE_ID>10230</GENE_ID></GENE_E></GENES><ACC>NC_000017.11</ACC><CHR>17</CHR><HANDLE>TOMMO_GENOMICS</HANDLE><SPDI>NC_000017.11:43127348:G:C</SPDI><FXN_CLASS>upstream_transcript_variant,2KB_upstream_variant,intron_variant</FXN_CLASS><VALIDATED>by-frequency</VALIDATED><DOCSUM>HGVS=NC_000017.11:g.43127349G&gt;C,NC_000017.10:g.41279366G&gt;C,NG_005905.2:g.90635C&gt;G,NG_056086.2:g.2955G&gt;C|SEQ=[G/C]|LEN=1|GENE=BRCA1:672,NBR2:10230</DOCSUM><TAX_ID>9606</TAX_ID><ORIG_BUILD>157</ORIG_BUILD><UPD_BUILD>157</UPD_BUILD><CREATEDATE>2024/11/03 19:28</CREATEDATE><UPDATEDATE>2024/11/03 19:28</UPDATEDATE><SS>6170309601</SS><ALLELE>S</ALLELE><SNP_CLASS>snv</SNP_CLASS><CHRPOS>17:43127349</CHRPOS><CHRPOS_PREV_ASSM>17:41279366</CHRPOS_PREV_ASSM><TEXT/><SNP_ID_SORT>2552282559</SNP_ID_SORT><CLINICAL_SORT>0</CLINICAL_SORT><CITED_SORT/><CHRPOS_SORT>0043127349</CHRPOS_SORT><MERGED_SORT>0</MERGED_SORT></DocumentSummary>\\n<DocumentSummary uid=\"2552281972\"><SNP_ID>2552281972</SNP_ID><ALLELE_ORIGIN/><GLOBAL_MAFS><MAF><STUDY>TOMMO</STUDY><FREQ>T=0.00003/2</FREQ></MAF></GLOBAL_MAFS><GLOBAL_POPULATION/><GLOBAL_SAMPLESIZE>0</GLOBAL_SAMPLESIZE><SUSPECTED/><CLINICAL_SIGNIFICANCE/><GENES><GENE_E><NAME>BRCA1</NAME><GENE_ID>672</GENE_ID></GENE_E><GENE_E><NAME>NBR2</NAME><GENE_ID>10230</GENE_ID></GENE_E></GENES><ACC>NC_000017.11</ACC><CHR>17</CHR><HANDLE>TOMMO_GENOMICS</HANDLE><SPDI>NC_000017.11:43127231:A:T</SPDI>'\n"
          ]
        }
      ],
      "source": [
        "# Obtener los SNP records\n",
        "    if snp_ids:\n",
        "        handle = Entrez.efetch(db=\"snp\", id=\",\".join(snp_ids), rettype=\"xml\")\n",
        "        snp_data = handle.read()\n",
        "        handle.close()\n",
        "        print(snp_data[:1000])  # Ver los primeros 1000 characters\n",
        "\n",
        "print(snp_data[:2000])  # 👀 Vista previa del XML"
      ]
    },
    {
      "cell_type": "code",
      "source": [
        "# Parsear el XML correctamente\n",
        "root = ET.fromstring(snp_data)\n",
        "snp_info = []\n",
        "\n",
        "# Buscar cada resumen de SNP\n",
        "for doc in root.findall(\".//{https://www.ncbi.nlm.nih.gov/SNP/docsum}DocumentSummary\"):\n",
        "    snp_id = doc.find(\"{https://www.ncbi.nlm.nih.gov/SNP/docsum}SNP_ID\")\n",
        "    snp_class = doc.find(\"{https://www.ncbi.nlm.nih.gov/SNP/docsum}SNP_CLASS\")\n",
        "    chrpos = doc.find(\"{https://www.ncbi.nlm.nih.gov/SNP/docsum}CHRPOS\")\n",
        "    fxn_class = doc.find(\"{https://www.ncbi.nlm.nih.gov/SNP/docsum}FXN_CLASS\")\n",
        "\n",
        "    snp_info.append({\n",
        "        \"SNP_ID\": snp_id.text if snp_id is not None else None,\n",
        "        \"SNP_CLASS\": snp_class.text if snp_class is not None else None,\n",
        "        \"CHRPOS\": chrpos.text if chrpos is not None else None,\n",
        "        \"FXN_CLASS\": fxn_class.text if fxn_class is not None else None\n",
        "    })\n",
        "\n",
        "# Convertir a DataFrame\n",
        "df_snps = pd.DataFrame(snp_info)\n",
        "df_snps.head()\n"
      ],
      "metadata": {
        "colab": {
          "base_uri": "https://localhost:8080/",
          "height": 206
        },
        "id": "jGq92eqEc7KI",
        "outputId": "f28db632-c4cf-410f-c955-be8ca9957f70"
      },
      "id": "jGq92eqEc7KI",
      "execution_count": 69,
      "outputs": [
        {
          "output_type": "execute_result",
          "data": {
            "text/plain": [
              "       SNP_ID SNP_CLASS       CHRPOS  \\\n",
              "0  2552282559       snv  17:43127349   \n",
              "1  2552281972       snv  17:43127232   \n",
              "2  2552281880       del  17:43127053   \n",
              "3  2552281808       snv  17:43126996   \n",
              "4  2552281780       snv  17:43126982   \n",
              "\n",
              "                                           FXN_CLASS  \n",
              "0  upstream_transcript_variant,2KB_upstream_varia...  \n",
              "1  upstream_transcript_variant,2KB_upstream_varia...  \n",
              "2  upstream_transcript_variant,2KB_upstream_varia...  \n",
              "3  upstream_transcript_variant,2KB_upstream_varia...  \n",
              "4  upstream_transcript_variant,2KB_upstream_varia...  "
            ],
            "text/html": [
              "\n",
              "  <div id=\"df-7bbfeb0e-da7b-4c04-92d6-c7e57d552642\" class=\"colab-df-container\">\n",
              "    <div>\n",
              "<style scoped>\n",
              "    .dataframe tbody tr th:only-of-type {\n",
              "        vertical-align: middle;\n",
              "    }\n",
              "\n",
              "    .dataframe tbody tr th {\n",
              "        vertical-align: top;\n",
              "    }\n",
              "\n",
              "    .dataframe thead th {\n",
              "        text-align: right;\n",
              "    }\n",
              "</style>\n",
              "<table border=\"1\" class=\"dataframe\">\n",
              "  <thead>\n",
              "    <tr style=\"text-align: right;\">\n",
              "      <th></th>\n",
              "      <th>SNP_ID</th>\n",
              "      <th>SNP_CLASS</th>\n",
              "      <th>CHRPOS</th>\n",
              "      <th>FXN_CLASS</th>\n",
              "    </tr>\n",
              "  </thead>\n",
              "  <tbody>\n",
              "    <tr>\n",
              "      <th>0</th>\n",
              "      <td>2552282559</td>\n",
              "      <td>snv</td>\n",
              "      <td>17:43127349</td>\n",
              "      <td>upstream_transcript_variant,2KB_upstream_varia...</td>\n",
              "    </tr>\n",
              "    <tr>\n",
              "      <th>1</th>\n",
              "      <td>2552281972</td>\n",
              "      <td>snv</td>\n",
              "      <td>17:43127232</td>\n",
              "      <td>upstream_transcript_variant,2KB_upstream_varia...</td>\n",
              "    </tr>\n",
              "    <tr>\n",
              "      <th>2</th>\n",
              "      <td>2552281880</td>\n",
              "      <td>del</td>\n",
              "      <td>17:43127053</td>\n",
              "      <td>upstream_transcript_variant,2KB_upstream_varia...</td>\n",
              "    </tr>\n",
              "    <tr>\n",
              "      <th>3</th>\n",
              "      <td>2552281808</td>\n",
              "      <td>snv</td>\n",
              "      <td>17:43126996</td>\n",
              "      <td>upstream_transcript_variant,2KB_upstream_varia...</td>\n",
              "    </tr>\n",
              "    <tr>\n",
              "      <th>4</th>\n",
              "      <td>2552281780</td>\n",
              "      <td>snv</td>\n",
              "      <td>17:43126982</td>\n",
              "      <td>upstream_transcript_variant,2KB_upstream_varia...</td>\n",
              "    </tr>\n",
              "  </tbody>\n",
              "</table>\n",
              "</div>\n",
              "    <div class=\"colab-df-buttons\">\n",
              "\n",
              "  <div class=\"colab-df-container\">\n",
              "    <button class=\"colab-df-convert\" onclick=\"convertToInteractive('df-7bbfeb0e-da7b-4c04-92d6-c7e57d552642')\"\n",
              "            title=\"Convert this dataframe to an interactive table.\"\n",
              "            style=\"display:none;\">\n",
              "\n",
              "  <svg xmlns=\"http://www.w3.org/2000/svg\" height=\"24px\" viewBox=\"0 -960 960 960\">\n",
              "    <path d=\"M120-120v-720h720v720H120Zm60-500h600v-160H180v160Zm220 220h160v-160H400v160Zm0 220h160v-160H400v160ZM180-400h160v-160H180v160Zm440 0h160v-160H620v160ZM180-180h160v-160H180v160Zm440 0h160v-160H620v160Z\"/>\n",
              "  </svg>\n",
              "    </button>\n",
              "\n",
              "  <style>\n",
              "    .colab-df-container {\n",
              "      display:flex;\n",
              "      gap: 12px;\n",
              "    }\n",
              "\n",
              "    .colab-df-convert {\n",
              "      background-color: #E8F0FE;\n",
              "      border: none;\n",
              "      border-radius: 50%;\n",
              "      cursor: pointer;\n",
              "      display: none;\n",
              "      fill: #1967D2;\n",
              "      height: 32px;\n",
              "      padding: 0 0 0 0;\n",
              "      width: 32px;\n",
              "    }\n",
              "\n",
              "    .colab-df-convert:hover {\n",
              "      background-color: #E2EBFA;\n",
              "      box-shadow: 0px 1px 2px rgba(60, 64, 67, 0.3), 0px 1px 3px 1px rgba(60, 64, 67, 0.15);\n",
              "      fill: #174EA6;\n",
              "    }\n",
              "\n",
              "    .colab-df-buttons div {\n",
              "      margin-bottom: 4px;\n",
              "    }\n",
              "\n",
              "    [theme=dark] .colab-df-convert {\n",
              "      background-color: #3B4455;\n",
              "      fill: #D2E3FC;\n",
              "    }\n",
              "\n",
              "    [theme=dark] .colab-df-convert:hover {\n",
              "      background-color: #434B5C;\n",
              "      box-shadow: 0px 1px 3px 1px rgba(0, 0, 0, 0.15);\n",
              "      filter: drop-shadow(0px 1px 2px rgba(0, 0, 0, 0.3));\n",
              "      fill: #FFFFFF;\n",
              "    }\n",
              "  </style>\n",
              "\n",
              "    <script>\n",
              "      const buttonEl =\n",
              "        document.querySelector('#df-7bbfeb0e-da7b-4c04-92d6-c7e57d552642 button.colab-df-convert');\n",
              "      buttonEl.style.display =\n",
              "        google.colab.kernel.accessAllowed ? 'block' : 'none';\n",
              "\n",
              "      async function convertToInteractive(key) {\n",
              "        const element = document.querySelector('#df-7bbfeb0e-da7b-4c04-92d6-c7e57d552642');\n",
              "        const dataTable =\n",
              "          await google.colab.kernel.invokeFunction('convertToInteractive',\n",
              "                                                    [key], {});\n",
              "        if (!dataTable) return;\n",
              "\n",
              "        const docLinkHtml = 'Like what you see? Visit the ' +\n",
              "          '<a target=\"_blank\" href=https://colab.research.google.com/notebooks/data_table.ipynb>data table notebook</a>'\n",
              "          + ' to learn more about interactive tables.';\n",
              "        element.innerHTML = '';\n",
              "        dataTable['output_type'] = 'display_data';\n",
              "        await google.colab.output.renderOutput(dataTable, element);\n",
              "        const docLink = document.createElement('div');\n",
              "        docLink.innerHTML = docLinkHtml;\n",
              "        element.appendChild(docLink);\n",
              "      }\n",
              "    </script>\n",
              "  </div>\n",
              "\n",
              "\n",
              "    <div id=\"df-99ee4e6d-2414-408a-8410-c6b1944bfa01\">\n",
              "      <button class=\"colab-df-quickchart\" onclick=\"quickchart('df-99ee4e6d-2414-408a-8410-c6b1944bfa01')\"\n",
              "                title=\"Suggest charts\"\n",
              "                style=\"display:none;\">\n",
              "\n",
              "<svg xmlns=\"http://www.w3.org/2000/svg\" height=\"24px\"viewBox=\"0 0 24 24\"\n",
              "     width=\"24px\">\n",
              "    <g>\n",
              "        <path d=\"M19 3H5c-1.1 0-2 .9-2 2v14c0 1.1.9 2 2 2h14c1.1 0 2-.9 2-2V5c0-1.1-.9-2-2-2zM9 17H7v-7h2v7zm4 0h-2V7h2v10zm4 0h-2v-4h2v4z\"/>\n",
              "    </g>\n",
              "</svg>\n",
              "      </button>\n",
              "\n",
              "<style>\n",
              "  .colab-df-quickchart {\n",
              "      --bg-color: #E8F0FE;\n",
              "      --fill-color: #1967D2;\n",
              "      --hover-bg-color: #E2EBFA;\n",
              "      --hover-fill-color: #174EA6;\n",
              "      --disabled-fill-color: #AAA;\n",
              "      --disabled-bg-color: #DDD;\n",
              "  }\n",
              "\n",
              "  [theme=dark] .colab-df-quickchart {\n",
              "      --bg-color: #3B4455;\n",
              "      --fill-color: #D2E3FC;\n",
              "      --hover-bg-color: #434B5C;\n",
              "      --hover-fill-color: #FFFFFF;\n",
              "      --disabled-bg-color: #3B4455;\n",
              "      --disabled-fill-color: #666;\n",
              "  }\n",
              "\n",
              "  .colab-df-quickchart {\n",
              "    background-color: var(--bg-color);\n",
              "    border: none;\n",
              "    border-radius: 50%;\n",
              "    cursor: pointer;\n",
              "    display: none;\n",
              "    fill: var(--fill-color);\n",
              "    height: 32px;\n",
              "    padding: 0;\n",
              "    width: 32px;\n",
              "  }\n",
              "\n",
              "  .colab-df-quickchart:hover {\n",
              "    background-color: var(--hover-bg-color);\n",
              "    box-shadow: 0 1px 2px rgba(60, 64, 67, 0.3), 0 1px 3px 1px rgba(60, 64, 67, 0.15);\n",
              "    fill: var(--button-hover-fill-color);\n",
              "  }\n",
              "\n",
              "  .colab-df-quickchart-complete:disabled,\n",
              "  .colab-df-quickchart-complete:disabled:hover {\n",
              "    background-color: var(--disabled-bg-color);\n",
              "    fill: var(--disabled-fill-color);\n",
              "    box-shadow: none;\n",
              "  }\n",
              "\n",
              "  .colab-df-spinner {\n",
              "    border: 2px solid var(--fill-color);\n",
              "    border-color: transparent;\n",
              "    border-bottom-color: var(--fill-color);\n",
              "    animation:\n",
              "      spin 1s steps(1) infinite;\n",
              "  }\n",
              "\n",
              "  @keyframes spin {\n",
              "    0% {\n",
              "      border-color: transparent;\n",
              "      border-bottom-color: var(--fill-color);\n",
              "      border-left-color: var(--fill-color);\n",
              "    }\n",
              "    20% {\n",
              "      border-color: transparent;\n",
              "      border-left-color: var(--fill-color);\n",
              "      border-top-color: var(--fill-color);\n",
              "    }\n",
              "    30% {\n",
              "      border-color: transparent;\n",
              "      border-left-color: var(--fill-color);\n",
              "      border-top-color: var(--fill-color);\n",
              "      border-right-color: var(--fill-color);\n",
              "    }\n",
              "    40% {\n",
              "      border-color: transparent;\n",
              "      border-right-color: var(--fill-color);\n",
              "      border-top-color: var(--fill-color);\n",
              "    }\n",
              "    60% {\n",
              "      border-color: transparent;\n",
              "      border-right-color: var(--fill-color);\n",
              "    }\n",
              "    80% {\n",
              "      border-color: transparent;\n",
              "      border-right-color: var(--fill-color);\n",
              "      border-bottom-color: var(--fill-color);\n",
              "    }\n",
              "    90% {\n",
              "      border-color: transparent;\n",
              "      border-bottom-color: var(--fill-color);\n",
              "    }\n",
              "  }\n",
              "</style>\n",
              "\n",
              "      <script>\n",
              "        async function quickchart(key) {\n",
              "          const quickchartButtonEl =\n",
              "            document.querySelector('#' + key + ' button');\n",
              "          quickchartButtonEl.disabled = true;  // To prevent multiple clicks.\n",
              "          quickchartButtonEl.classList.add('colab-df-spinner');\n",
              "          try {\n",
              "            const charts = await google.colab.kernel.invokeFunction(\n",
              "                'suggestCharts', [key], {});\n",
              "          } catch (error) {\n",
              "            console.error('Error during call to suggestCharts:', error);\n",
              "          }\n",
              "          quickchartButtonEl.classList.remove('colab-df-spinner');\n",
              "          quickchartButtonEl.classList.add('colab-df-quickchart-complete');\n",
              "        }\n",
              "        (() => {\n",
              "          let quickchartButtonEl =\n",
              "            document.querySelector('#df-99ee4e6d-2414-408a-8410-c6b1944bfa01 button');\n",
              "          quickchartButtonEl.style.display =\n",
              "            google.colab.kernel.accessAllowed ? 'block' : 'none';\n",
              "        })();\n",
              "      </script>\n",
              "    </div>\n",
              "\n",
              "    </div>\n",
              "  </div>\n"
            ],
            "application/vnd.google.colaboratory.intrinsic+json": {
              "type": "dataframe",
              "variable_name": "df_snps",
              "summary": "{\n  \"name\": \"df_snps\",\n  \"rows\": 20,\n  \"fields\": [\n    {\n      \"column\": \"SNP_ID\",\n      \"properties\": {\n        \"dtype\": \"string\",\n        \"num_unique_values\": 20,\n        \"samples\": [\n          \"2552282559\",\n          \"2552281374\",\n          \"2552281410\"\n        ],\n        \"semantic_type\": \"\",\n        \"description\": \"\"\n      }\n    },\n    {\n      \"column\": \"SNP_CLASS\",\n      \"properties\": {\n        \"dtype\": \"category\",\n        \"num_unique_values\": 3,\n        \"samples\": [\n          \"snv\",\n          \"del\",\n          \"delins\"\n        ],\n        \"semantic_type\": \"\",\n        \"description\": \"\"\n      }\n    },\n    {\n      \"column\": \"CHRPOS\",\n      \"properties\": {\n        \"dtype\": \"string\",\n        \"num_unique_values\": 20,\n        \"samples\": [\n          \"17:43127349\",\n          \"17:43126197\",\n          \"17:43126273\"\n        ],\n        \"semantic_type\": \"\",\n        \"description\": \"\"\n      }\n    },\n    {\n      \"column\": \"FXN_CLASS\",\n      \"properties\": {\n        \"dtype\": \"category\",\n        \"num_unique_values\": 1,\n        \"samples\": [\n          \"upstream_transcript_variant,2KB_upstream_variant,intron_variant\"\n        ],\n        \"semantic_type\": \"\",\n        \"description\": \"\"\n      }\n    }\n  ]\n}"
            }
          },
          "metadata": {},
          "execution_count": 69
        }
      ]
    },
    {
      "cell_type": "markdown",
      "source": [
        "## 🧬 4. Clasificar SNPs por tipo (SNP_CLASS)"
      ],
      "metadata": {
        "id": "L59yTXYWfEv-"
      },
      "id": "L59yTXYWfEv-"
    },
    {
      "cell_type": "code",
      "source": [
        "print(\"🧬 Distribución de clases de SNPs:\")\n",
        "print(df_snps[\"SNP_CLASS\"].value_counts())\n",
        "\n",
        "# Visualización\n",
        "df_snps[\"SNP_CLASS\"].value_counts().plot(kind='bar', title='Distribución de clases de SNPs')\n",
        "plt.xlabel(\"Clase de SNP\")\n",
        "plt.ylabel(\"Cantidad\")\n",
        "plt.tight_layout()\n",
        "plt.show()\n",
        "\n"
      ],
      "metadata": {
        "colab": {
          "base_uri": "https://localhost:8080/",
          "height": 591
        },
        "id": "MCS_eUwpdvnq",
        "outputId": "53ce3e5b-279c-4053-8384-09bc95499073"
      },
      "id": "MCS_eUwpdvnq",
      "execution_count": 70,
      "outputs": [
        {
          "output_type": "stream",
          "name": "stdout",
          "text": [
            "🧬 Distribución de clases de SNPs:\n",
            "SNP_CLASS\n",
            "snv       16\n",
            "delins     3\n",
            "del        1\n",
            "Name: count, dtype: int64\n"
          ]
        },
        {
          "output_type": "display_data",
          "data": {
            "text/plain": [
              "<Figure size 640x480 with 1 Axes>"
            ],
            "image/png": "[encoded data removed]"
          },
          "metadata": {}
        }
      ]
    },
    {
      "cell_type": "markdown",
      "source": [
        "## 🔬 5. Analizar la función genética (FXN_CLASS)"
      ],
      "metadata": {
        "id": "9QpYtoMVfHy2"
      },
      "id": "9QpYtoMVfHy2"
    },
    {
      "cell_type": "code",
      "source": [
        "\n",
        "print(\"🔬 Clases funcionales de SNPs:\")\n",
        "fxn_counts = df_snps[\"FXN_CLASS\"].str.split(\",\").explode().value_counts()\n",
        "print(fxn_counts)\n",
        "\n",
        "# Visualización\n",
        "fxn_counts.plot(kind='barh', title='Distribución de clases funcionales')\n",
        "plt.xlabel(\"Cantidad\")\n",
        "plt.ylabel(\"Clase funcional\")\n",
        "plt.tight_layout()\n",
        "plt.show()\n"
      ],
      "metadata": {
        "colab": {
          "base_uri": "https://localhost:8080/",
          "height": 591
        },
        "id": "9SLlJSd-fKxK",
        "outputId": "07c9a0b7-1ca2-4728-9f4b-36acd3bd9575"
      },
      "id": "9SLlJSd-fKxK",
      "execution_count": 71,
      "outputs": [
        {
          "output_type": "stream",
          "name": "stdout",
          "text": [
            "🔬 Clases funcionales de SNPs:\n",
            "FXN_CLASS\n",
            "upstream_transcript_variant    20\n",
            "2KB_upstream_variant           20\n",
            "intron_variant                 20\n",
            "Name: count, dtype: int64\n"
          ]
        },
        {
          "output_type": "display_data",
          "data": {
            "text/plain": [
              "<Figure size 640x480 with 1 Axes>"
            ],
            "image/png": "[encoded data removed]"
          },
          "metadata": {}
        }
      ]
    },
    {
      "cell_type": "markdown",
      "source": [
        "## 🧭 6. Filtrar SNPs en regiones específicas (upstream)"
      ],
      "metadata": {
        "id": "IqOa-_EgfZJM"
      },
      "id": "IqOa-_EgfZJM"
    },
    {
      "cell_type": "code",
      "source": [
        "\n",
        "print(\"🧭 SNPs en regiones upstream:\")\n",
        "upstream_snps = df_snps[df_snps[\"FXN_CLASS\"].str.contains(\"upstream\", case=False, na=False)]\n",
        "print(upstream_snps)\n"
      ],
      "metadata": {
        "colab": {
          "base_uri": "https://localhost:8080/"
        },
        "id": "K1JDeu1yfayM",
        "outputId": "6bbf1b4b-8d06-4112-87fa-50c9e564f693"
      },
      "id": "K1JDeu1yfayM",
      "execution_count": 72,
      "outputs": [
        {
          "output_type": "stream",
          "name": "stdout",
          "text": [
            "🧭 SNPs en regiones upstream:\n",
            "        SNP_ID SNP_CLASS       CHRPOS  \\\n",
            "0   2552282559       snv  17:43127349   \n",
            "1   2552281972       snv  17:43127232   \n",
            "2   2552281880       del  17:43127053   \n",
            "3   2552281808       snv  17:43126996   \n",
            "4   2552281780       snv  17:43126982   \n",
            "5   2552281763       snv  17:43126949   \n",
            "6   2552281739       snv  17:43126883   \n",
            "7   2552281738    delins  17:43126881   \n",
            "8   2552281728    delins  17:43126843   \n",
            "9   2552281725       snv  17:43126831   \n",
            "10  2552281715       snv  17:43126813   \n",
            "11  2552281691       snv  17:43126774   \n",
            "12  2552281468       snv  17:43126469   \n",
            "13  2552281431       snv  17:43126366   \n",
            "14  2552281423       snv  17:43126332   \n",
            "15  2552281410       snv  17:43126273   \n",
            "16  2552281409    delins  17:43126271   \n",
            "17  2552281374       snv  17:43126197   \n",
            "18  2552281365       snv  17:43126177   \n",
            "19  2552281348       snv  17:43126156   \n",
            "\n",
            "                                            FXN_CLASS  \n",
            "0   upstream_transcript_variant,2KB_upstream_varia...  \n",
            "1   upstream_transcript_variant,2KB_upstream_varia...  \n",
            "2   upstream_transcript_variant,2KB_upstream_varia...  \n",
            "3   upstream_transcript_variant,2KB_upstream_varia...  \n",
            "4   upstream_transcript_variant,2KB_upstream_varia...  \n",
            "5   upstream_transcript_variant,2KB_upstream_varia...  \n",
            "6   upstream_transcript_variant,2KB_upstream_varia...  \n",
            "7   upstream_transcript_variant,2KB_upstream_varia...  \n",
            "8   upstream_transcript_variant,2KB_upstream_varia...  \n",
            "9   upstream_transcript_variant,2KB_upstream_varia...  \n",
            "10  upstream_transcript_variant,2KB_upstream_varia...  \n",
            "11  upstream_transcript_variant,2KB_upstream_varia...  \n",
            "12  upstream_transcript_variant,2KB_upstream_varia...  \n",
            "13  upstream_transcript_variant,2KB_upstream_varia...  \n",
            "14  upstream_transcript_variant,2KB_upstream_varia...  \n",
            "15  upstream_transcript_variant,2KB_upstream_varia...  \n",
            "16  upstream_transcript_variant,2KB_upstream_varia...  \n",
            "17  upstream_transcript_variant,2KB_upstream_varia...  \n",
            "18  upstream_transcript_variant,2KB_upstream_varia...  \n",
            "19  upstream_transcript_variant,2KB_upstream_varia...  \n"
          ]
        }
      ]
    },
    {
      "cell_type": "markdown",
      "id": "9686b041",
      "metadata": {
        "id": "9686b041"
      },
      "source": [
        "\n",
        "## 🧠 7. Preguntas de interpretación\n",
        "- ¿Qué implicaciones evolutivas puede tener la presencia de SNPs en regiones upstream o intrónicas?\n",
        "- ¿Qué tipos de variantes esperarías encontrar en regiones codificantes vs. no codificantes?\n",
        "- ¿Qué importancia tiene que varios SNPs estén agrupados en una misma región cromosómica? ¿Podría indicar un hotspot de variación?\n"
      ]
    }
  ],
  "metadata": {
    "colab": {
      "provenance": [],
      "include_colab_link": true
    },
    "language_info": {
      "name": "python"
    },
    "kernelspec": {
      "name": "python3",
      "display_name": "Python 3"
    }
  },
  "nbformat": 4,
  "nbformat_minor": 5
}