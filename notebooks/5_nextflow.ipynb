{
  "nbformat": 4,
  "nbformat_minor": 0,
  "metadata": {
    "colab": {
      "provenance": [],
      "include_colab_link": true
    },
    "kernelspec": {
      "name": "python3",
      "display_name": "Python 3"
    },
    "language_info": {
      "name": "python"
    }
  },
  "cells": [
    {
      "cell_type": "markdown",
      "metadata": {
        "id": "view-in-github",
        "colab_type": "text"
      },
      "source": [
        "<a href=\"https://colab.research.google.com/github/margarethc/gen_evol_2025/blob/main/notebooks/5_nextflow.ipynb\" target=\"_parent\"><img src=\"https://colab.research.google.com/assets/colab-badge.svg\" alt=\"Open In Colab\"/></a>"
      ]
    },
    {
      "cell_type": "markdown",
      "source": [
        "## 5. Intro a Nextflow con colab\n",
        "\n",
        "\n",
        "📁 Folder Structure\n",
        "\n",
        "project/\n",
        "\n",
        "├── datasets/       # Contains input .fasta files\n",
        "\n",
        "├── output/         # Where results will be saved\n",
        "\n",
        "├── scripts/        # Contains .nf pipeline script\n",
        "\n",
        "└── notebook/       # Jupyter notebook for running the pipeline\n",
        "\n"
      ],
      "metadata": {
        "id": "I4p1-W5HamxV"
      }
    },
    {
      "cell_type": "code",
      "source": [
        "# Remove old Java\n",
        "!sudo apt-get remove openjdk*\n",
        "\n",
        "# Install OpenJDK 17\n",
        "!sudo apt-get update\n",
        "!sudo apt-get install openjdk-17-jdk -y\n",
        "\n",
        "# Set JAVA_HOME and JAVA_CMD\n",
        "import os\n",
        "os.environ[\"JAVA_HOME\"] = \"/usr/lib/jvm/java-17-openjdk-amd64\"\n",
        "os.environ[\"JAVA_CMD\"] = \"/usr/lib/jvm/java-17-openjdk-amd64/bin/java\"\n",
        "\n",
        "# Download and install Nextflow\n",
        "!curl -s https://get.nextflow.io | bash\n",
        "!mv nextflow /usr/local/bin/\n",
        "!nextflow -v"
      ],
      "metadata": {
        "colab": {
          "base_uri": "https://localhost:8080/"
        },
        "collapsed": true,
        "id": "lAyq5L9Kagvo",
        "outputId": "ca225444-a2f3-4cba-85c4-fac09773a016"
      },
      "execution_count": 15,
      "outputs": [
        {
          "output_type": "stream",
          "name": "stdout",
          "text": [
            "Reading package lists... Done\n",
            "Building dependency tree... Done\n",
            "Reading state information... Done\n",
            "Note, selecting 'openjdk-11-jdk' for glob 'openjdk*'\n",
            "Note, selecting 'openjdk-11-jre' for glob 'openjdk*'\n",
            "Note, selecting 'openjdk-11-jre-headless' for glob 'openjdk*'\n",
            "Note, selecting 'openjdk-19-jre-headless' for glob 'openjdk*'\n",
            "Note, selecting 'openjdk-8-jre-zero' for glob 'openjdk*'\n",
            "Note, selecting 'openjdk-11-jdk-headless' for glob 'openjdk*'\n",
            "Note, selecting 'openjdk-21-jdk-headless' for glob 'openjdk*'\n",
            "Note, selecting 'openjdk-19-jdk-headless' for glob 'openjdk*'\n",
            "Note, selecting 'openjdk-21-demo' for glob 'openjdk*'\n",
            "Note, selecting 'openjdk-18-jdk-headless' for glob 'openjdk*'\n",
            "Note, selecting 'openjdk-17-dbg' for glob 'openjdk*'\n",
            "Note, selecting 'openjdk-17-doc' for glob 'openjdk*'\n",
            "Note, selecting 'openjdk-18-dbg' for glob 'openjdk*'\n",
            "Note, selecting 'openjdk-17-jdk' for glob 'openjdk*'\n",
            "Note, selecting 'openjdk-18-doc' for glob 'openjdk*'\n",
            "Note, selecting 'openjdk-17-jre' for glob 'openjdk*'\n",
            "Note, selecting 'openjdk-17-jdk-headless' for glob 'openjdk*'\n",
            "Note, selecting 'openjdk-19-dbg' for glob 'openjdk*'\n",
            "Note, selecting 'openjdk-18-jdk' for glob 'openjdk*'\n",
            "Note, selecting 'openjdk-19-doc' for glob 'openjdk*'\n",
            "Note, selecting 'openjdk-18-jre' for glob 'openjdk*'\n",
            "Note, selecting 'openjdk-21-dbg' for glob 'openjdk*'\n",
            "Note, selecting 'openjdk-21-doc' for glob 'openjdk*'\n",
            "Note, selecting 'openjdk-19-jdk' for glob 'openjdk*'\n",
            "Note, selecting 'openjdk-19-jre' for glob 'openjdk*'\n",
            "Note, selecting 'openjdk-21-jdk' for glob 'openjdk*'\n",
            "Note, selecting 'openjdk-21-jre' for glob 'openjdk*'\n",
            "Note, selecting 'openjdk-19-source' for glob 'openjdk*'\n",
            "Note, selecting 'openjdk-11-demo' for glob 'openjdk*'\n",
            "Note, selecting 'openjdk-6-jre' for glob 'openjdk*'\n",
            "Note, selecting 'openjdk-8-dbg' for glob 'openjdk*'\n",
            "Note, selecting 'openjdk-8-doc' for glob 'openjdk*'\n",
            "Note, selecting 'openjdk-7-jre' for glob 'openjdk*'\n",
            "Note, selecting 'openjdk-21-testsupport' for glob 'openjdk*'\n",
            "Note, selecting 'openjdk-8-jdk' for glob 'openjdk*'\n",
            "Note, selecting 'openjdk-8-jre' for glob 'openjdk*'\n",
            "Note, selecting 'openjdk-9-jre' for glob 'openjdk*'\n",
            "Note, selecting 'openjdk-8-demo' for glob 'openjdk*'\n",
            "Note, selecting 'openjdk-8-jre-headless' for glob 'openjdk*'\n",
            "Note, selecting 'openjdk-8-source' for glob 'openjdk*'\n",
            "Note, selecting 'openjdk-19-jre-zero' for glob 'openjdk*'\n",
            "Note, selecting 'openjdk-17-source' for glob 'openjdk*'\n",
            "Note, selecting 'openjdk-17-demo' for glob 'openjdk*'\n",
            "Note, selecting 'openjdk-6-jre-headless' for glob 'openjdk*'\n",
            "Note, selecting 'openjdk-18-demo' for glob 'openjdk*'\n",
            "Note, selecting 'openjdk-11-source' for glob 'openjdk*'\n",
            "Note, selecting 'openjdk-19-demo' for glob 'openjdk*'\n",
            "Note, selecting 'openjdk-18-jre-zero' for glob 'openjdk*'\n",
            "Note, selecting 'openjdk-jre' for glob 'openjdk*'\n",
            "Note, selecting 'openjdk-11-jre-zero' for glob 'openjdk*'\n",
            "Note, selecting 'openjdk-21-jre-headless' for glob 'openjdk*'\n",
            "Note, selecting 'openjdk-8-jdk-headless' for glob 'openjdk*'\n",
            "Note, selecting 'openjdk-21-source' for glob 'openjdk*'\n",
            "Note, selecting 'openjdk-14-jre-headless' for glob 'openjdk*'\n",
            "Note, selecting 'openjdk-18-jre-headless' for glob 'openjdk*'\n",
            "Note, selecting 'openjdk-17-jre-zero' for glob 'openjdk*'\n",
            "Note, selecting 'openjdk-13-jre-headless' for glob 'openjdk*'\n",
            "Note, selecting 'openjdk-17-jre-headless' for glob 'openjdk*'\n",
            "Note, selecting 'openjdk-18-source' for glob 'openjdk*'\n",
            "Note, selecting 'openjdk-11-dbg' for glob 'openjdk*'\n",
            "Note, selecting 'openjdk-11-doc' for glob 'openjdk*'\n",
            "Note, selecting 'openjdk-11-jre-dcevm' for glob 'openjdk*'\n",
            "Note, selecting 'openjdk-21-jre-zero' for glob 'openjdk*'\n",
            "Note, selecting 'openjdk-12-jre-headless' for glob 'openjdk*'\n",
            "Package 'openjdk-6-jre-headless' is not installed, so not removed\n",
            "Package 'openjdk-14-jre-headless' is not installed, so not removed\n",
            "Package 'openjdk-13-jre-headless' is not installed, so not removed\n",
            "Package 'openjdk-12-jre-headless' is not installed, so not removed\n",
            "Package 'openjdk-6-jre' is not installed, so not removed\n",
            "Package 'openjdk-7-jre' is not installed, so not removed\n",
            "Package 'openjdk-9-jre' is not installed, so not removed\n",
            "Package 'openjdk-jre' is not installed, so not removed\n",
            "Package 'openjdk-11-jre-dcevm' is not installed, so not removed\n",
            "Package 'openjdk-11-dbg' is not installed, so not removed\n",
            "Package 'openjdk-11-doc' is not installed, so not removed\n",
            "Package 'openjdk-11-jdk' is not installed, so not removed\n",
            "Package 'openjdk-11-jdk-headless' is not installed, so not removed\n",
            "Package 'openjdk-11-jre' is not installed, so not removed\n",
            "Package 'openjdk-11-jre-headless' is not installed, so not removed\n",
            "Package 'openjdk-11-source' is not installed, so not removed\n",
            "Package 'openjdk-11-demo' is not installed, so not removed\n",
            "Package 'openjdk-11-jre-zero' is not installed, so not removed\n",
            "Package 'openjdk-17-dbg' is not installed, so not removed\n",
            "Package 'openjdk-17-demo' is not installed, so not removed\n",
            "Package 'openjdk-17-doc' is not installed, so not removed\n",
            "Package 'openjdk-17-jre-zero' is not installed, so not removed\n",
            "Package 'openjdk-17-source' is not installed, so not removed\n",
            "Package 'openjdk-18-dbg' is not installed, so not removed\n",
            "Package 'openjdk-18-demo' is not installed, so not removed\n",
            "Package 'openjdk-18-doc' is not installed, so not removed\n",
            "Package 'openjdk-18-jdk' is not installed, so not removed\n",
            "Package 'openjdk-18-jdk-headless' is not installed, so not removed\n",
            "Package 'openjdk-18-jre' is not installed, so not removed\n",
            "Package 'openjdk-18-jre-headless' is not installed, so not removed\n",
            "Package 'openjdk-18-jre-zero' is not installed, so not removed\n",
            "Package 'openjdk-18-source' is not installed, so not removed\n",
            "Package 'openjdk-19-dbg' is not installed, so not removed\n",
            "Package 'openjdk-19-demo' is not installed, so not removed\n",
            "Package 'openjdk-19-doc' is not installed, so not removed\n",
            "Package 'openjdk-19-jdk' is not installed, so not removed\n",
            "Package 'openjdk-19-jdk-headless' is not installed, so not removed\n",
            "Package 'openjdk-19-jre' is not installed, so not removed\n",
            "Package 'openjdk-19-jre-headless' is not installed, so not removed\n",
            "Package 'openjdk-19-jre-zero' is not installed, so not removed\n",
            "Package 'openjdk-19-source' is not installed, so not removed\n",
            "Package 'openjdk-21-dbg' is not installed, so not removed\n",
            "Package 'openjdk-21-demo' is not installed, so not removed\n",
            "Package 'openjdk-21-doc' is not installed, so not removed\n",
            "Package 'openjdk-21-jdk' is not installed, so not removed\n",
            "Package 'openjdk-21-jdk-headless' is not installed, so not removed\n",
            "Package 'openjdk-21-jre' is not installed, so not removed\n",
            "Package 'openjdk-21-jre-headless' is not installed, so not removed\n",
            "Package 'openjdk-21-jre-zero' is not installed, so not removed\n",
            "Package 'openjdk-21-source' is not installed, so not removed\n",
            "Package 'openjdk-21-testsupport' is not installed, so not removed\n",
            "Package 'openjdk-8-dbg' is not installed, so not removed\n",
            "Package 'openjdk-8-demo' is not installed, so not removed\n",
            "Package 'openjdk-8-doc' is not installed, so not removed\n",
            "Package 'openjdk-8-jdk' is not installed, so not removed\n",
            "Package 'openjdk-8-jdk-headless' is not installed, so not removed\n",
            "Package 'openjdk-8-jre' is not installed, so not removed\n",
            "Package 'openjdk-8-jre-headless' is not installed, so not removed\n",
            "Package 'openjdk-8-jre-zero' is not installed, so not removed\n",
            "Package 'openjdk-8-source' is not installed, so not removed\n",
            "The following packages were automatically installed and are no longer required:\n",
            "  fonts-dejavu-extra java-common libatk-wrapper-java libatk-wrapper-java-jni\n",
            "  libpcsclite1 libxt-dev\n",
            "Use 'sudo apt autoremove' to remove them.\n",
            "The following packages will be REMOVED:\n",
            "  ca-certificates-java openjdk-17-jdk openjdk-17-jdk-headless openjdk-17-jre\n",
            "  openjdk-17-jre-headless\n",
            "0 upgraded, 0 newly installed, 5 to remove and 41 not upgraded.\n",
            "After this operation, 274 MB disk space will be freed.\n",
            "(Reading database ... 127138 files and directories currently installed.)\n",
            "Removing openjdk-17-jdk:amd64 (17.0.16+8~us1-0ubuntu1~22.04.1) ...\n",
            "Removing openjdk-17-jre:amd64 (17.0.16+8~us1-0ubuntu1~22.04.1) ...\n",
            "Removing openjdk-17-jdk-headless:amd64 (17.0.16+8~us1-0ubuntu1~22.04.1) ...\n",
            "Removing openjdk-17-jre-headless:amd64 (17.0.16+8~us1-0ubuntu1~22.04.1) ...\n",
            "Removing ca-certificates-java (20190909ubuntu1.2) ...\n",
            "Processing triggers for ca-certificates (20240203~22.04.1) ...\n",
            "Updating certificates in /etc/ssl/certs...\n",
            "0 added, 0 removed; done.\n",
            "Running hooks in /etc/ca-certificates/update.d...\n",
            "\n",
            "updates of cacerts keystore disabled.\n",
            "done.\n",
            "Processing triggers for mailcap (3.70+nmu1ubuntu1) ...\n",
            "Processing triggers for hicolor-icon-theme (0.17-2) ...\n",
            "Hit:1 https://cli.github.com/packages stable InRelease\n",
            "Hit:2 https://cloud.r-project.org/bin/linux/ubuntu jammy-cran40/ InRelease\n",
            "Hit:3 https://developer.download.nvidia.com/compute/cuda/repos/ubuntu2204/x86_64  InRelease\n",
            "Hit:4 http://archive.ubuntu.com/ubuntu jammy InRelease\n",
            "Hit:5 http://archive.ubuntu.com/ubuntu jammy-updates InRelease\n",
            "Hit:6 http://archive.ubuntu.com/ubuntu jammy-backports InRelease\n",
            "Hit:7 http://security.ubuntu.com/ubuntu jammy-security InRelease\n",
            "Hit:8 https://r2u.stat.illinois.edu/ubuntu jammy InRelease\n",
            "Hit:9 https://ppa.launchpadcontent.net/deadsnakes/ppa/ubuntu jammy InRelease\n",
            "Hit:10 https://ppa.launchpadcontent.net/graphics-drivers/ppa/ubuntu jammy InRelease\n",
            "Hit:11 https://ppa.launchpadcontent.net/ubuntugis/ppa/ubuntu jammy InRelease\n",
            "Reading package lists... Done\n",
            "W: Skipping acquire of configured file 'main/source/Sources' as repository 'https://r2u.stat.illinois.edu/ubuntu jammy InRelease' does not seem to provide it (sources.list entry misspelt?)\n",
            "Reading package lists... Done\n",
            "Building dependency tree... Done\n",
            "Reading state information... Done\n",
            "The following additional packages will be installed:\n",
            "  ca-certificates-java openjdk-17-jdk-headless openjdk-17-jre\n",
            "  openjdk-17-jre-headless\n",
            "Suggested packages:\n",
            "  openjdk-17-demo openjdk-17-source visualvm libnss-mdns fonts-ipafont-gothic\n",
            "  fonts-ipafont-mincho fonts-wqy-microhei | fonts-wqy-zenhei fonts-indic\n",
            "The following NEW packages will be installed:\n",
            "  ca-certificates-java openjdk-17-jdk openjdk-17-jdk-headless openjdk-17-jre\n",
            "  openjdk-17-jre-headless\n",
            "0 upgraded, 5 newly installed, 0 to remove and 41 not upgraded.\n",
            "Need to get 121 MB of archives.\n",
            "After this operation, 274 MB of additional disk space will be used.\n",
            "Get:1 http://archive.ubuntu.com/ubuntu jammy-updates/universe amd64 openjdk-17-jre-headless amd64 17.0.16+8~us1-0ubuntu1~22.04.1 [48.3 MB]\n",
            "Get:2 http://archive.ubuntu.com/ubuntu jammy-updates/main amd64 ca-certificates-java all 20190909ubuntu1.2 [12.1 kB]\n",
            "Get:3 http://archive.ubuntu.com/ubuntu jammy-updates/universe amd64 openjdk-17-jre amd64 17.0.16+8~us1-0ubuntu1~22.04.1 [232 kB]\n",
            "Get:4 http://archive.ubuntu.com/ubuntu jammy-updates/universe amd64 openjdk-17-jdk-headless amd64 17.0.16+8~us1-0ubuntu1~22.04.1 [71.3 MB]\n",
            "Get:5 http://archive.ubuntu.com/ubuntu jammy-updates/universe amd64 openjdk-17-jdk amd64 17.0.16+8~us1-0ubuntu1~22.04.1 [1,522 kB]\n",
            "Fetched 121 MB in 3s (41.2 MB/s)\n",
            "debconf: unable to initialize frontend: Dialog\n",
            "debconf: (No usable dialog-like program is installed, so the dialog based frontend cannot be used. at /usr/share/perl5/Debconf/FrontEnd/Dialog.pm line 78, <> line 5.)\n",
            "debconf: falling back to frontend: Readline\n",
            "debconf: unable to initialize frontend: Readline\n",
            "debconf: (This frontend requires a controlling tty.)\n",
            "debconf: falling back to frontend: Teletype\n",
            "dpkg-preconfigure: unable to re-open stdin: \n",
            "Selecting previously unselected package openjdk-17-jre-headless:amd64.\n",
            "(Reading database ... 126684 files and directories currently installed.)\n",
            "Preparing to unpack .../openjdk-17-jre-headless_17.0.16+8~us1-0ubuntu1~22.04.1_amd64.deb ...\n",
            "Unpacking openjdk-17-jre-headless:amd64 (17.0.16+8~us1-0ubuntu1~22.04.1) ...\n",
            "Selecting previously unselected package ca-certificates-java.\n",
            "Preparing to unpack .../ca-certificates-java_20190909ubuntu1.2_all.deb ...\n",
            "Unpacking ca-certificates-java (20190909ubuntu1.2) ...\n",
            "Selecting previously unselected package openjdk-17-jre:amd64.\n",
            "Preparing to unpack .../openjdk-17-jre_17.0.16+8~us1-0ubuntu1~22.04.1_amd64.deb ...\n",
            "Unpacking openjdk-17-jre:amd64 (17.0.16+8~us1-0ubuntu1~22.04.1) ...\n",
            "Selecting previously unselected package openjdk-17-jdk-headless:amd64.\n",
            "Preparing to unpack .../openjdk-17-jdk-headless_17.0.16+8~us1-0ubuntu1~22.04.1_amd64.deb ...\n",
            "Unpacking openjdk-17-jdk-headless:amd64 (17.0.16+8~us1-0ubuntu1~22.04.1) ...\n",
            "Selecting previously unselected package openjdk-17-jdk:amd64.\n",
            "Preparing to unpack .../openjdk-17-jdk_17.0.16+8~us1-0ubuntu1~22.04.1_amd64.deb ...\n",
            "Unpacking openjdk-17-jdk:amd64 (17.0.16+8~us1-0ubuntu1~22.04.1) ...\n",
            "Setting up openjdk-17-jre-headless:amd64 (17.0.16+8~us1-0ubuntu1~22.04.1) ...\n",
            "update-alternatives: using /usr/lib/jvm/java-17-openjdk-amd64/bin/java to provide /usr/bin/java (java) in auto mode\n",
            "update-alternatives: using /usr/lib/jvm/java-17-openjdk-amd64/bin/jpackage to provide /usr/bin/jpackage (jpackage) in auto mode\n",
            "update-alternatives: using /usr/lib/jvm/java-17-openjdk-amd64/bin/keytool to provide /usr/bin/keytool (keytool) in auto mode\n",
            "update-alternatives: using /usr/lib/jvm/java-17-openjdk-amd64/bin/rmiregistry to provide /usr/bin/rmiregistry (rmiregistry) in auto mode\n",
            "update-alternatives: using /usr/lib/jvm/java-17-openjdk-amd64/lib/jexec to provide /usr/bin/jexec (jexec) in auto mode\n",
            "Setting up ca-certificates-java (20190909ubuntu1.2) ...\n",
            "Setting up openjdk-17-jre:amd64 (17.0.16+8~us1-0ubuntu1~22.04.1) ...\n",
            "Setting up openjdk-17-jdk-headless:amd64 (17.0.16+8~us1-0ubuntu1~22.04.1) ...\n",
            "update-alternatives: using /usr/lib/jvm/java-17-openjdk-amd64/bin/jar to provide /usr/bin/jar (jar) in auto mode\n",
            "update-alternatives: using /usr/lib/jvm/java-17-openjdk-amd64/bin/jarsigner to provide /usr/bin/jarsigner (jarsigner) in auto mode\n",
            "update-alternatives: using /usr/lib/jvm/java-17-openjdk-amd64/bin/javac to provide /usr/bin/javac (javac) in auto mode\n",
            "update-alternatives: using /usr/lib/jvm/java-17-openjdk-amd64/bin/javadoc to provide /usr/bin/javadoc (javadoc) in auto mode\n",
            "update-alternatives: using /usr/lib/jvm/java-17-openjdk-amd64/bin/javap to provide /usr/bin/javap (javap) in auto mode\n",
            "update-alternatives: using /usr/lib/jvm/java-17-openjdk-amd64/bin/jcmd to provide /usr/bin/jcmd (jcmd) in auto mode\n",
            "update-alternatives: using /usr/lib/jvm/java-17-openjdk-amd64/bin/jdb to provide /usr/bin/jdb (jdb) in auto mode\n",
            "update-alternatives: using /usr/lib/jvm/java-17-openjdk-amd64/bin/jdeprscan to provide /usr/bin/jdeprscan (jdeprscan) in auto mode\n",
            "update-alternatives: using /usr/lib/jvm/java-17-openjdk-amd64/bin/jdeps to provide /usr/bin/jdeps (jdeps) in auto mode\n",
            "update-alternatives: using /usr/lib/jvm/java-17-openjdk-amd64/bin/jfr to provide /usr/bin/jfr (jfr) in auto mode\n",
            "update-alternatives: using /usr/lib/jvm/java-17-openjdk-amd64/bin/jimage to provide /usr/bin/jimage (jimage) in auto mode\n",
            "update-alternatives: using /usr/lib/jvm/java-17-openjdk-amd64/bin/jinfo to provide /usr/bin/jinfo (jinfo) in auto mode\n",
            "update-alternatives: using /usr/lib/jvm/java-17-openjdk-amd64/bin/jlink to provide /usr/bin/jlink (jlink) in auto mode\n",
            "update-alternatives: using /usr/lib/jvm/java-17-openjdk-amd64/bin/jmap to provide /usr/bin/jmap (jmap) in auto mode\n",
            "update-alternatives: using /usr/lib/jvm/java-17-openjdk-amd64/bin/jmod to provide /usr/bin/jmod (jmod) in auto mode\n",
            "update-alternatives: using /usr/lib/jvm/java-17-openjdk-amd64/bin/jps to provide /usr/bin/jps (jps) in auto mode\n",
            "update-alternatives: using /usr/lib/jvm/java-17-openjdk-amd64/bin/jrunscript to provide /usr/bin/jrunscript (jrunscript) in auto mode\n",
            "update-alternatives: using /usr/lib/jvm/java-17-openjdk-amd64/bin/jshell to provide /usr/bin/jshell (jshell) in auto mode\n",
            "update-alternatives: using /usr/lib/jvm/java-17-openjdk-amd64/bin/jstack to provide /usr/bin/jstack (jstack) in auto mode\n",
            "update-alternatives: using /usr/lib/jvm/java-17-openjdk-amd64/bin/jstat to provide /usr/bin/jstat (jstat) in auto mode\n",
            "update-alternatives: using /usr/lib/jvm/java-17-openjdk-amd64/bin/jstatd to provide /usr/bin/jstatd (jstatd) in auto mode\n",
            "update-alternatives: using /usr/lib/jvm/java-17-openjdk-amd64/bin/serialver to provide /usr/bin/serialver (serialver) in auto mode\n",
            "update-alternatives: using /usr/lib/jvm/java-17-openjdk-amd64/bin/jhsdb to provide /usr/bin/jhsdb (jhsdb) in auto mode\n",
            "Setting up openjdk-17-jdk:amd64 (17.0.16+8~us1-0ubuntu1~22.04.1) ...\n",
            "update-alternatives: using /usr/lib/jvm/java-17-openjdk-amd64/bin/jconsole to provide /usr/bin/jconsole (jconsole) in auto mode\n",
            "Processing triggers for ca-certificates (20240203~22.04.1) ...\n",
            "Updating certificates in /etc/ssl/certs...\n",
            "0 added, 0 removed; done.\n",
            "Running hooks in /etc/ca-certificates/update.d...\n",
            "\n",
            "done.\n",
            "done.\n",
            "Processing triggers for mailcap (3.70+nmu1ubuntu1) ...\n",
            "Processing triggers for hicolor-icon-theme (0.17-2) ...\n",
            "\u001b[K\n",
            "      N E X T F L O W\n",
            "      version 25.04.8 build 5956\n",
            "      created 06-10-2025 21:19 UTC \n",
            "      cite doi:10.1038/nbt.3820\n",
            "      http://nextflow.io\n",
            "\n",
            "\n",
            "Nextflow installation completed. Please note:\n",
            "- the executable file `nextflow` has been created in the folder: /content\n",
            "- you may complete the installation by moving it to a directory in your $PATH\n",
            "\n",
            "nextflow version 25.04.8.5956\n"
          ]
        }
      ]
    },
    {
      "cell_type": "code",
      "source": [
        "!cd /content/drive/MyDrive/Colab_Notebooks/gen_evol\n",
        "\n",
        "\n",
        "# Download Nextflow using wget instead of curl\n",
        "!wget -q https://github.com/nextflow-io/nextflow/releases/latest/download/nextflow -O nextflow\n",
        "\n",
        "# Make it executable\n",
        "!chmod +x nextflow\n",
        "\n",
        "# Verify installation\n",
        "!./nextflow -v\n",
        "\n"
      ],
      "metadata": {
        "colab": {
          "base_uri": "https://localhost:8080/"
        },
        "id": "EktMbdJoagpx",
        "outputId": "3f05fea8-6350-4613-982e-b77f91a0344b"
      },
      "execution_count": 18,
      "outputs": [
        {
          "output_type": "stream",
          "name": "stdout",
          "text": [
            "nextflow version 25.04.7.5955\n"
          ]
        }
      ]
    },
    {
      "cell_type": "code",
      "source": [
        "from google.colab import drive\n",
        "drive.mount('/content/drive')"
      ],
      "metadata": {
        "id": "s3pjo4WQJEC0",
        "outputId": "9e69ee0c-a9ba-4b83-80b9-6b6828f2d8db",
        "colab": {
          "base_uri": "https://localhost:8080/"
        }
      },
      "execution_count": 19,
      "outputs": [
        {
          "output_type": "stream",
          "name": "stdout",
          "text": [
            "Drive already mounted at /content/drive; to attempt to forcibly remount, call drive.mount(\"/content/drive\", force_remount=True).\n"
          ]
        }
      ]
    },
    {
      "cell_type": "markdown",
      "source": [
        "### 🧬 Step-by-Step Breakdown\n",
        "1. Create a simple script to count sequences\n",
        "In scripts/count_sequences.sh:\n"
      ],
      "metadata": {
        "id": "h1ayvNFccwbK"
      }
    },
    {
      "cell_type": "code",
      "source": [
        "#do not run the following\n",
        "\n",
        "#!/bin/bash\n",
        "# Count number of sequences in a FASTA file\n",
        "grep -c \"^>\" $1"
      ],
      "metadata": {
        "id": "VrnF0Gxbct3o",
        "outputId": "2223a85c-3e03-4abf-dbd2-3c6271075926",
        "colab": {
          "base_uri": "https://localhost:8080/",
          "height": 106
        }
      },
      "execution_count": 20,
      "outputs": [
        {
          "output_type": "error",
          "ename": "SyntaxError",
          "evalue": "invalid syntax (ipython-input-134847825.py, line 5)",
          "traceback": [
            "\u001b[0;36m  File \u001b[0;32m\"/tmp/ipython-input-134847825.py\"\u001b[0;36m, line \u001b[0;32m5\u001b[0m\n\u001b[0;31m    grep -c \"^>\" $1\u001b[0m\n\u001b[0m            ^\u001b[0m\n\u001b[0;31mSyntaxError\u001b[0m\u001b[0;31m:\u001b[0m invalid syntax\n"
          ]
        }
      ]
    },
    {
      "cell_type": "markdown",
      "source": [
        "### 2. Create the Nextflow pipeline\n",
        "In scripts/count_lines.nf:"
      ],
      "metadata": {
        "id": "sHKHK4Tkc3tH"
      }
    },
    {
      "cell_type": "code",
      "source": [
        "\n",
        "# do not run the following\n",
        "\n",
        "nextflow.enable.dsl=2\n",
        "\n",
        "\n",
        "Define all paths at the top\n",
        "params.input     = '/content/drive/MyDrive/Colab_Notebooks/gen_evol/datasets/wc_nextflow.fasta'\n",
        "params.outdir    = '/content/drive/MyDrive/Colab_Notebooks/gen_evol/output'\n",
        "params.scriptdir = '/content/drive/MyDrive/Colab_Notebooks/gen_evol/scripts'\n",
        "\n",
        "process countFasta_pros {\n",
        "    input:\n",
        "    path fasta_file\n",
        "\n",
        "    output:\n",
        "    path \"${params.outdir}/${fasta_file.simpleName}.count.txt\", emit: result\n",
        "\n",
        "    script:\n",
        "    \"\"\"\n",
        "    bash ${params.scriptdir}/count_lines.sh ${params.input} > ${fasta_file.simpleName}.count.txt\n",
        "    \"\"\"\n",
        "}\n",
        "\n",
        "\n",
        "workflow {\n",
        "    results = countFasta_pros(params.input)\n",
        "    results.view()\n",
        "}\n",
        "\n",
        "#writes the output file (wc_nextflow.count.txt) inside the working directory, which Nextflow can track."
      ],
      "metadata": {
        "id": "UXgzhdLAc_U9",
        "outputId": "7b60c768-1cb4-47b0-8038-95ccecff6d90",
        "colab": {
          "base_uri": "https://localhost:8080/",
          "height": 106
        }
      },
      "execution_count": 21,
      "outputs": [
        {
          "output_type": "error",
          "ename": "SyntaxError",
          "evalue": "invalid syntax (ipython-input-3595473641.py, line 11)",
          "traceback": [
            "\u001b[0;36m  File \u001b[0;32m\"/tmp/ipython-input-3595473641.py\"\u001b[0;36m, line \u001b[0;32m11\u001b[0m\n\u001b[0;31m    process countFasta_pros {\u001b[0m\n\u001b[0m            ^\u001b[0m\n\u001b[0;31mSyntaxError\u001b[0m\u001b[0;31m:\u001b[0m invalid syntax\n"
          ]
        }
      ]
    },
    {
      "cell_type": "code",
      "source": [
        "\n",
        "# Run the pipeline\n",
        "\n",
        "# Run Nextflow with symlink workaround\n",
        "!nextflow run /content/drive/MyDrive/Colab_Notebooks/gen_evol/scripts/count_lines.nf\n"
      ],
      "metadata": {
        "colab": {
          "base_uri": "https://localhost:8080/"
        },
        "collapsed": true,
        "id": "sVF8x10gGYcl",
        "outputId": "7d07434c-fac6-4c76-f50f-ed9aa6a7eb88"
      },
      "execution_count": 33,
      "outputs": [
        {
          "output_type": "stream",
          "name": "stdout",
          "text": [
            "\n",
            "\u001b[1m\u001b[38;5;232m\u001b[48;5;43m N E X T F L O W \u001b[0;2m  ~  \u001b[mversion 25.04.8\u001b[m\n",
            "\u001b[K\n",
            "Launching\u001b[35m `/content/drive/MyDrive/Colab_Notebooks/gen_evol/scripts/count_lines.nf` \u001b[0;2m[\u001b[0;1;36mgrave_watson\u001b[0;2m] DSL2 - \u001b[36mrevision: \u001b[0;36m77cebee151\u001b[m\n",
            "\u001b[K\n",
            "\u001b[2m[\u001b[0;34m-        \u001b[0;2m] \u001b[0;2m\u001b[mcountFasta_pros -\u001b[K\n",
            "\u001b[2A\n",
            "\u001b[2m[\u001b[0;34m-        \u001b[0;2m] \u001b[0;2m\u001b[mcountFasta_pros\u001b[2m |\u001b[m 0 of 1\u001b[K\n",
            "\u001b[33mWARN: Access to undefined parameter `outdir` -- Initialise it to a default value eg. `params.outdir = some_value`\u001b[39m\u001b[K\n",
            "\u001b[3A\n",
            "\u001b[2mexecutor >  local (1)\u001b[m\u001b[K\n",
            "\u001b[2m[\u001b[0;34m07/5996db\u001b[0;2m] \u001b[0;2m\u001b[mcountFasta_pros\u001b[2m |\u001b[m 0 of 1\u001b[K\n",
            "\u001b[33mWARN: Access to undefined parameter `outdir` -- Initialise it to a default value eg. `params.outdir = some_value`\u001b[39m\u001b[K\n",
            "\u001b[4A\n",
            "\u001b[2mexecutor >  local (1)\u001b[m\u001b[K\n",
            "\u001b[2m[\u001b[0;34m07/5996db\u001b[0;2m] \u001b[0;2m\u001b[mcountFasta_pros\u001b[2m |\u001b[m 0 of 1\u001b[K\n",
            "\u001b[33mWARN: Access to undefined parameter `outdir` -- Initialise it to a default value eg. `params.outdir = some_value`\u001b[39m\u001b[K\n",
            "\u001b[4A\n",
            "\u001b[2mexecutor >  local (1)\u001b[m\u001b[K\n",
            "\u001b[2m[\u001b[0;34m07/5996db\u001b[0;2m] \u001b[0;2m\u001b[mcountFasta_pros\u001b[2m |\u001b[m 0 of 1\u001b[K\n",
            "\u001b[33mWARN: Access to undefined parameter `outdir` -- Initialise it to a default value eg. `params.outdir = some_value`\u001b[39m\u001b[K\n",
            "\u001b[31mERROR ~ Error executing process > 'countFasta_pros'\u001b[K\n",
            "\u001b[K\n",
            "Caused by:\u001b[K\n",
            "  Missing output file(s) `null/wc_nextflow.count.txt` expected by process `countFasta_pros`\u001b[K\n",
            "\u001b[K\n",
            "\u001b[K\n",
            "Command executed:\u001b[K\n",
            "\u001b[K\n",
            "  bash /content/drive/MyDrive/Colab_Notebooks/gen_evol/scripts/count_lines.sh /content/drive/MyDrive/Colab_Notebooks/gen_evol/datasets/wc_nextflow.fasta > wc_nextflow.count.txt\u001b[K\n",
            "\u001b[K\n",
            "Command exit status:\u001b[K\n",
            "  0\u001b[K\n",
            "\u001b[K\n",
            "Command output:\u001b[K\n",
            "  (empty)\u001b[K\n",
            "\u001b[K\n",
            "Work dir:\u001b[K\n",
            "  /content/work/07/5996db2372714c0da83f6f3d8fa4c5\u001b[K\n",
            "\u001b[K\n",
            "Tip: you can replicate the issue by changing to the process work dir and entering the command `bash .command.run`\u001b[K\n",
            "\u001b[K\n",
            " -- Check '.nextflow.log' file for details\u001b[39m\u001b[K\n",
            "\u001b[26A\n",
            "\u001b[2mexecutor >  local (1)\u001b[m\u001b[K\n",
            "\u001b[2m[\u001b[0;34m07/5996db\u001b[0;2m] \u001b[0;2m\u001b[mcountFasta_pros\u001b[2m |\u001b[m 0 of 1\u001b[31m ✘\u001b[m\u001b[K\n",
            "\u001b[33mWARN: Access to undefined parameter `outdir` -- Initialise it to a default value eg. `params.outdir = some_value`\u001b[39m\u001b[K\n",
            "\u001b[31mERROR ~ Error executing process > 'countFasta_pros'\u001b[K\n",
            "\u001b[K\n",
            "Caused by:\u001b[K\n",
            "  Missing output file(s) `null/wc_nextflow.count.txt` expected by process `countFasta_pros`\u001b[K\n",
            "\u001b[K\n",
            "\u001b[K\n",
            "Command executed:\u001b[K\n",
            "\u001b[K\n",
            "  bash /content/drive/MyDrive/Colab_Notebooks/gen_evol/scripts/count_lines.sh /content/drive/MyDrive/Colab_Notebooks/gen_evol/datasets/wc_nextflow.fasta > wc_nextflow.count.txt\u001b[K\n",
            "\u001b[K\n",
            "Command exit status:\u001b[K\n",
            "  0\u001b[K\n",
            "\u001b[K\n",
            "Command output:\u001b[K\n",
            "  (empty)\u001b[K\n",
            "\u001b[K\n",
            "Work dir:\u001b[K\n",
            "  /content/work/07/5996db2372714c0da83f6f3d8fa4c5\u001b[K\n",
            "\u001b[K\n",
            "Tip: you can replicate the issue by changing to the process work dir and entering the command `bash .command.run`\u001b[K\n",
            "\u001b[K\n",
            " -- Check '.nextflow.log' file for details\u001b[39m\u001b[K\n",
            "WARN: Got an interrupted exception while taking agent result | java.lang.InterruptedException\n",
            "\n"
          ]
        }
      ]
    },
    {
      "cell_type": "code",
      "source": [
        "#since the outputs are created in the work dir, then we must move them to our own wd\n",
        "\n",
        "!mv work/*/*/*.count.txt /content/drive/MyDrive/Colab_Notebooks/gen_evol/output/"
      ],
      "metadata": {
        "id": "yfo2jXrtYKbV",
        "outputId": "8e6f7793-1db4-4c2e-cd2a-a73f7f001ffb",
        "colab": {
          "base_uri": "https://localhost:8080/"
        }
      },
      "execution_count": 34,
      "outputs": [
        {
          "output_type": "stream",
          "name": "stdout",
          "text": [
            "mv: will not overwrite just-created '/content/drive/MyDrive/Colab_Notebooks/gen_evol/output/wc_nextflow.count.txt' with 'work/e9/7c608febe19dbf79908b25e76e5efe/wc_nextflow.count.txt'\n"
          ]
        }
      ]
    }
  ]
}